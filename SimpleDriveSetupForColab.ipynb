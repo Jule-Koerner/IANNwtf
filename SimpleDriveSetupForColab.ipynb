{
  "nbformat": 4,
  "nbformat_minor": 0,
  "metadata": {
    "colab": {
      "name": "SimpleDriveSetupForColab.ipynb",
      "provenance": []
    },
    "kernelspec": {
      "name": "python3",
      "display_name": "Python 3"
    },
    "language_info": {
      "name": "python"
    }
  },
  "cells": [
    {
      "cell_type": "markdown",
      "source": [
        "[![Open In Colab](https://colab.research.google.com/assets/colab-badge.svg)](https://colab.research.google.com/github/Cl4ryty/iannwtf-group21-project/blob/main/SimpleDriveSetupForColab.ipynb)"
      ],
      "metadata": {
        "id": "Vev2gEwdy_hD"
      }
    },
    {
      "cell_type": "markdown",
      "source": [
        "Use this notebook as a simple way to get this project set up for use in Colab. The GitHub repo will be cloned to the specified location in your Drive and links to the notebook for training and generating samples will be generated so that you are just 3 clicks away from generating sampels or training the model.\n",
        "\n",
        "Set  ```drive_path ``` to the location within your Drive where the repository should be cloned to then run all cells.\n",
        "\n"
      ],
      "metadata": {
        "id": "aGQnb6THZsA4"
      }
    },
    {
      "cell_type": "code",
      "source": [
        "drive_path = \"RepoTest\" #change this to the folder/path you want"
      ],
      "metadata": {
        "id": "PBIAmQGYaKmy"
      },
      "execution_count": null,
      "outputs": []
    },
    {
      "cell_type": "code",
      "source": [
        "!pip install kora -q \n",
        "from kora.xattr import get_id"
      ],
      "metadata": {
        "id": "A8T7Tj2rzWIY"
      },
      "execution_count": null,
      "outputs": []
    },
    {
      "cell_type": "code",
      "execution_count": null,
      "metadata": {
        "id": "IpizvyoaZdAR"
      },
      "outputs": [],
      "source": [
        "from google.colab import drive\n",
        "import os\n",
        "drive.mount('/content/gdrive')\n",
        "os.makedirs('/content/gdrive/MyDrive/'+drive_path, exist_ok=True)\n",
        "\n",
        "os.chdir('/content/gdrive/MyDrive/'+drive_path)"
      ]
    },
    {
      "cell_type": "code",
      "source": [
        "# clone the github repo\n",
        "!git clone https://github.com/Cl4ryty/iannwtf-group21-project.git"
      ],
      "metadata": {
        "id": "dNmAWg_27kzt"
      },
      "execution_count": null,
      "outputs": []
    },
    {
      "cell_type": "code",
      "source": [
        "# figure out file ids for the notebooks\n",
        "filenames = [\"TrainingInColab.ipynb\", \"GenerateSamplesInColab.ipynb\"]\n",
        "fids = []\n",
        "for fname in filenames:\n",
        "  fid = get_id(\"iannwtf-group21-project/\"+fname)\n",
        "  fids.append(fid)\n",
        "\n",
        "# generate and show the urls fo the notebooks\n",
        "for fname, fid in zip(filenames, fids):\n",
        "  print(\"Start \"+fname+\":\")\n",
        "  print(\"https://colab.research.google.com/drive/\"+fid)"
      ],
      "metadata": {
        "id": "3xjQqdeYZrS3"
      },
      "execution_count": null,
      "outputs": []
    }
  ]
}